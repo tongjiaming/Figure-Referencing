{
 "cells": [
  {
   "cell_type": "code",
   "execution_count": 1,
   "id": "de432bdb-1691-4688-ba63-58382457e237",
   "metadata": {},
   "outputs": [],
   "source": [
    "from utils.utils import data_loader"
   ]
  },
  {
   "cell_type": "code",
   "execution_count": 2,
   "id": "d3406404-eea3-47dd-81a2-14e9995ac659",
   "metadata": {},
   "outputs": [],
   "source": [
    "DATA_PATH = '../data/pmcoa/jsonl/pmcoa_train.jsonl'"
   ]
  },
  {
   "cell_type": "code",
   "execution_count": 3,
   "id": "4b030f90-56e2-4865-9ec9-afa1744fd26c",
   "metadata": {},
   "outputs": [],
   "source": [
    "iter_obj = data_loader(DATA_PATH, with_fake_ref=False)"
   ]
  },
  {
   "cell_type": "code",
   "execution_count": 24,
   "id": "0c33b265-1bf5-4fa9-8f84-b44b1821bb44",
   "metadata": {},
   "outputs": [
    {
     "name": "stdout",
     "output_type": "stream",
     "text": [
      "I need to reference a figure or table at the position indicated by <ref> in the following sentence:\n",
      "\n",
      "<ref> shows the patients’ clinicopathological characteristics presented by ALC categories.\n",
      "\n",
      "Below are the labels and captions of all candidate figures and tables. Which should I reference?\n",
      "\n",
      "<index>0</index>: <caption>Patients’ characteristics of the two ALC cohorts</caption>\n",
      "<index>1</index>: <caption>Treatment for patients in the two ALC cohorts</caption>\n",
      "<index>2</index>: <caption>Disease free survival and overall survival for each cohort</caption>\n",
      "<index>3</index>: <caption>Cumulative DFS and OS curves of patients. (A) Cumulative DFS curve for the two ANC cohorts. (B) Cumulative DFS curve for the two ALC cohorts. (C) Cumulative DFS curve for the two NLR cohorts. (D) Cumulative OS curve for the two ANC cohorts. (E) Cumulative OS curve for the two ALC cohorts. (F) Cumulative OS curve for the two NLR cohorts. A p-value <0.05 was considered to indicate statistically significance. Abbreviations: ALC, absolute lymphocyte count; NLR, neutrophil to lymphocyte ratio; DFS, disease free survival; OS, overall survival.</caption>\n",
      "<index>4</index>: <caption>Univariate and multivariate analysis for DFS</caption>\n",
      "<index>5</index>: <caption>Forest plots of subgroup analysis for disease-free survival. Abbreviations: ALC, absolute lymphocyte count; BCS, breast-conserving surgery; IDC, invasive ductal carcinoma; ER, estrogen receptor; PR, progesterone receptor; NA, not available.</caption>\n",
      "<index>6</index>: <caption>Univariate and multivariate analysis for OS</caption>\n"
     ]
    }
   ],
   "source": [
    "args = next(iter_obj)\n",
    "\n",
    "if args != None:\n",
    "    queries, targets, candidates, candidate_labels, paper_id = args\n",
    "\n",
    "index = 0\n",
    "concatenated_candidates = ''\n",
    "for caption in candidates:\n",
    "    concatenated_candidates += f\"<index>{index}</index>: <caption>{caption}</caption>\\n\"\n",
    "    index += 1\n",
    "\n",
    "query = queries[0]\n",
    "target = targets[0]\n",
    "    \n",
    "user_message = f\"\"\"\n",
    "I need to reference a figure or table at the position indicated by <ref> in the following sentence:\n",
    "\n",
    "{query}\n",
    "\n",
    "Below are the labels and captions of all candidate figures and tables. Which should I reference?\n",
    "\n",
    "{concatenated_candidates}\n",
    "\"\"\".strip()\n",
    "\n",
    "print(user_message)"
   ]
  },
  {
   "cell_type": "code",
   "execution_count": 25,
   "id": "6327e5b4-1104-4ed3-8803-4c5298a4d6af",
   "metadata": {},
   "outputs": [
    {
     "name": "stdout",
     "output_type": "stream",
     "text": [
      "T0001\n"
     ]
    }
   ],
   "source": [
    "print(target)"
   ]
  },
  {
   "cell_type": "code",
   "execution_count": 29,
   "id": "1e8f0eec-5531-44cb-9faf-9c8415923c3c",
   "metadata": {},
   "outputs": [
    {
     "name": "stdout",
     "output_type": "stream",
     "text": [
      "['T0001', 'T0002', 'T0003', 'F0001', 'T0004', 'F0002', 'T0005']\n"
     ]
    }
   ],
   "source": [
    "print(candidate_labels)"
   ]
  },
  {
   "cell_type": "code",
   "execution_count": null,
   "id": "017fa6ab-99ba-4c76-ab8c-ec1a85fec778",
   "metadata": {},
   "outputs": [],
   "source": []
  }
 ],
 "metadata": {
  "kernelspec": {
   "display_name": "Python 3 (ipykernel)",
   "language": "python",
   "name": "python3"
  },
  "language_info": {
   "codemirror_mode": {
    "name": "ipython",
    "version": 3
   },
   "file_extension": ".py",
   "mimetype": "text/x-python",
   "name": "python",
   "nbconvert_exporter": "python",
   "pygments_lexer": "ipython3",
   "version": "3.10.13"
  }
 },
 "nbformat": 4,
 "nbformat_minor": 5
}
