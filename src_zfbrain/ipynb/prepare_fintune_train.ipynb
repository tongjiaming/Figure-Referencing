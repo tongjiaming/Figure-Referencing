{
 "cells": [
  {
   "cell_type": "code",
   "execution_count": 3,
   "id": "e5ad2368-d9d7-44f5-829e-28bf23fa11f0",
   "metadata": {},
   "outputs": [
    {
     "name": "stderr",
     "output_type": "stream",
     "text": [
      "/home/student/miniforge3/lib/python3.10/site-packages/tqdm/auto.py:21: TqdmWarning: IProgress not found. Please update jupyter and ipywidgets. See https://ipywidgets.readthedocs.io/en/stable/user_install.html\n",
      "  from .autonotebook import tqdm as notebook_tqdm\n"
     ]
    }
   ],
   "source": [
    "from utils.utils import data_loader\n",
    "from torchdata.datapipes.iter import IterableWrapper"
   ]
  },
  {
   "cell_type": "code",
   "execution_count": 53,
   "id": "c94c239f-a3e2-4022-a657-908f9075a7cb",
   "metadata": {},
   "outputs": [],
   "source": [
    "DATA_PATH = '../data/pmcoa/jsonl/pmcoa_train.jsonl'\n",
    "iter_obj = data_loader(DATA_PATH, with_fake_ref=False)\n",
    "dp = IterableWrapper(iter_obj)\n",
    "\n",
    "LEN_PMCOA_TRAIN = 5066815\n",
    "RATIO = 0.1\n",
    "N = 50"
   ]
  },
  {
   "cell_type": "code",
   "execution_count": 54,
   "id": "8a715863-9493-4774-857e-120e6c645fa9",
   "metadata": {},
   "outputs": [],
   "source": [
    "dp_use = dp.random_split(total_length=LEN_PMCOA_TRAIN, weights={\"use\": RATIO, \"not_use\": 1 - RATIO}, seed=0, target='use')"
   ]
  },
  {
   "cell_type": "code",
   "execution_count": 55,
   "id": "41fdc71e-c3ae-4513-8c00-5724bb2584cb",
   "metadata": {},
   "outputs": [],
   "source": [
    "dp_iter = iter(dp_use)"
   ]
  },
  {
   "cell_type": "code",
   "execution_count": 56,
   "id": "515790f3-4eb5-425d-8892-07e515446aae",
   "metadata": {},
   "outputs": [
    {
     "data": {
      "text/plain": [
       "(['For the initial biomarker screening and development, the NEALS Biofluid Repository provided 50 ALS (<ref>) and 5 healthy control whole blood samples (Table 2).',\n",
       "  'For the initial biomarker screening and development, the NEALS Biofluid Repository provided 50 ALS (Table 1) and 5 healthy control whole blood samples (<ref>).',\n",
       "  'Oxford BioDynamics sample collection provided a further 37 controls (<ref>).',\n",
       "  'Clinical characteristics for ALS patients were similar between the Discovery and Validation cohorts (<ref>).',\n",
       "  'In this study, EpiSwitch was used on blood samples in a three-step process to identify, evaluate, and validate statistically-significant differences in chromosomal conformations between ALS patients and healthy controls (<ref>).',\n",
       "  'The genetic loci selected for the array were genes primarily involved in immunodeficiency, adaptive and innate immune systems, and cytokine signaling (<ref>).',\n",
       "  'Array readouts were analyzed with linear regression modeling to select the 153 chromosomal interactions with the ability to best discriminate ALS from controls (<ref>).',\n",
       "  \"Exact Fisher's P-value, GLMNET (alpha 0.5, penalized score) and standard logistic modeling scores including Coef, SE, Wald S and P-value were used to select the top eight biomarkers (<ref>).\",\n",
       "  'Principal component analysis was also used to determine abundance levels and to identify potential outliers (<ref>).',\n",
       "  'For the final screening, a panel consisting of the eight top biomarkers (<ref>) was applied to a separate cohort of 74 samples from the NEALS Biofluid Repository and Oxford University.',\n",
       "  '(See Results, (<ref>)).',\n",
       "  'The results were analyzed using Bayesian Logistic modeling, p-value null hypothesis (Pr(>|z|) analysis, Fisher-Exact P test and Glmnet (<ref>).',\n",
       "  'Last, we explored the biological relevance of the biomarkers by using a second array with 171,408 potential chromosome conformations across 467 loci that were functionally related to ALS [15] (<ref>).',\n",
       "  'For the ALS patients, samples in both cohorts were sex matched (approximately 2/3 male and 1/3 female), with the majority of cases being sporadic ALS (84% in the Discovery Cohort and 75% in the Validation cohort) (<ref>).',\n",
       "  'Average ALSFRS-R scores (35.9 in Discovery and 36.4 in Validation), average age at diagnosis (53.4\\u202fyears in Discovery and 54.9\\u202fyears in Validation) and disease duration (53.4 in Discovery and 54.9 in Validation) were similar in both cohorts (<ref>).',\n",
       "  'The loci contained in the signature are CD36, TAB2, GLYCAM1, GRB2, FYN, PTPRC, DNM3 and IKBKB (<ref>).',\n",
       "  'Statistical analysis results from the binary data analysis are shown in <ref>.',\n",
       "  'The discriminating power of the ALS CCS are shown in <ref>, Table 7.',\n",
       "  'The discriminating power of the ALS CCS are shown in Table 6, <ref>.',\n",
       "  'When we mapped the markers in the ALS CCS to the Metacore™ signaling pathway database, the TLR2 and 4 signaling pathways showed significant enrichment with three genomic loci (CD36, TAB2 and IKBKB) mapping to this signaling cascade (<ref>).',\n",
       "  'Based on comparison of 16 ALS patients and 16 controls, 150 statistically disseminating markers were identified (<ref>).',\n",
       "  'Genetic loci enriched with significant epigenetic deregulation were used to build a protein regulatory network using the STRING database (<ref>).',\n",
       "  'When analyzing the resulting network (Additional File 1, Additional File 2), key hubs included proteins with known links to the pathophysiology of ALS including SOD1, TARDBP (TDP-43), NEFH, and UBQLN2 [[16], [17], [18]] (<ref>).',\n",
       "  'For example, the most interconnected node in the network was the alpha subunit of Protein Kinase C (PRKCA) (<ref>).'],\n",
       " ['t0005',\n",
       "  't0010',\n",
       "  't0010',\n",
       "  't0015',\n",
       "  'f0005',\n",
       "  't0020',\n",
       "  't0025',\n",
       "  't0030',\n",
       "  'f0010',\n",
       "  't0030',\n",
       "  't0035',\n",
       "  't0040',\n",
       "  't0045',\n",
       "  't0015',\n",
       "  't0015',\n",
       "  't0030',\n",
       "  't0025',\n",
       "  't0030',\n",
       "  't0035',\n",
       "  'f0015',\n",
       "  't0045',\n",
       "  'f0020',\n",
       "  'f0020',\n",
       "  'f0020'],\n",
       " ['NEALS Biofluid Repository samples used in this study.',\n",
       "  'Healthy control blood samples provided by Oxford BioDynamics and the NEALS Consortium used in this study.',\n",
       "  'ALS clinical characteristics of the Discovery and Validation cohorts.',\n",
       "  'Three-step biomarker discovery workflow. Starting with an initial pool of over 13,000 markers, a series of statistical comparisons between ALS and healthy controls samples refined the final ALS chromosome conformation signature panel into a set of 8 markers that could diagnose ALS patients in a blinded, independent cohort with 87.5% sensitivity.',\n",
       "  'List of immune-related genomic loci tested in the initial ALS array.',\n",
       "  'Top 153 markers produced from the second array.',\n",
       "  'The genomic loci contained in the chromosome conformation signature (CCS) used to inform an ALS diagnosis.',\n",
       "  'Principal component analysis for the 8 markers applied to 74 known samples (ALS samples in red and healthy controls (HC) in green) and 16 unknown blinded samples (black). The blinded samples appear as a mixture of ALS and control samples.',\n",
       "  'Sensitivity and specificity of the ALS chromosome conformation signature (CCS) when used to classify a set of clinical samples (n\\u202f=\\u202f74) taken from two ALS clinical trials.',\n",
       "  'Results from classification of blinded Oxford University samples (N\\u202f=\\u202f16).',\n",
       "  'Loci that are functionally related to ALS used for the second array.',\n",
       "  'Toll-like receptor signaling cascade showing the biological involvement of three of the eight chromosome conformation signature loci; CD36, TAB2 and IKKB (red thermometers) in the regulation of the inflammatory response. Image generated using Metacore™.',\n",
       "  'Protein STRING network of ALS regulation. The gene loci for the top 150 chromosome conformations that could best discriminate between ALS samples and healthy controls in the second array screen were uploaded as proteins to the STRING database and a resulting interaction network was generated. The two main networks are shown. Network nodes represent proteins and edges represent protein-protein associations. All nodes shown are query proteins and the first shell of interactors. Nodes are colored according to their association with the top gene ontology (GO) terms for Biological Process and Cellular Component. Edges are colored according to their interactions, either known, predicted or other.'],\n",
       " ['t0005',\n",
       "  't0010',\n",
       "  't0015',\n",
       "  'f0005',\n",
       "  't0020',\n",
       "  't0025',\n",
       "  't0030',\n",
       "  'f0010',\n",
       "  't0035',\n",
       "  't0040',\n",
       "  't0045',\n",
       "  'f0015',\n",
       "  'f0020'],\n",
       " 31)"
      ]
     },
     "execution_count": 56,
     "metadata": {},
     "output_type": "execute_result"
    }
   ],
   "source": [
    "next(dp_iter)"
   ]
  }
 ],
 "metadata": {
  "kernelspec": {
   "display_name": "Python 3 (ipykernel)",
   "language": "python",
   "name": "python3"
  },
  "language_info": {
   "codemirror_mode": {
    "name": "ipython",
    "version": 3
   },
   "file_extension": ".py",
   "mimetype": "text/x-python",
   "name": "python",
   "nbconvert_exporter": "python",
   "pygments_lexer": "ipython3",
   "version": "3.10.13"
  }
 },
 "nbformat": 4,
 "nbformat_minor": 5
}
